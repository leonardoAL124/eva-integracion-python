{
 "cells": [
  {
   "cell_type": "markdown",
   "id": "a2f95656-de1a-4b14-a032-ff7ea88d9913",
   "metadata": {},
   "source": [
    "# Ejercicio 2 - Planetas enanos y sus satelites"
   ]
  },
  {
   "cell_type": "code",
   "execution_count": 1,
   "id": "7bba343e-7f8e-4b56-bc09-0141c7d21482",
   "metadata": {},
   "outputs": [],
   "source": [
    "from bs4 import BeautifulSoup\n",
    "import requests"
   ]
  },
  {
   "cell_type": "code",
   "execution_count": 2,
   "id": "9d6d0621-4bb6-4382-9b64-3e3439c06abd",
   "metadata": {},
   "outputs": [],
   "source": [
    "url = \"https://es.wikipedia.org/wiki/Sistema_solar\"\n",
    "pagina = requests.get(url)\n",
    "soup = BeautifulSoup(pagina.text, 'html.parser')"
   ]
  },
  {
   "cell_type": "code",
   "execution_count": 20,
   "id": "7b822f1d-4603-41a9-b317-fa194c1f2459",
   "metadata": {},
   "outputs": [
    {
     "name": "stdout",
     "output_type": "stream",
     "text": [
      "El planeta Ceres, tiene 0 satélites\n",
      "El planeta Plutón, tiene 5 satélites\n",
      "El planeta Haumea, tiene 2 satélites\n",
      "El planeta Makemake, tiene 1 satélites\n",
      "El planeta Eris, tiene 1 satélites\n"
     ]
    }
   ],
   "source": [
    "aux = 1\n",
    "for fila in soup.find_all('tr'):\n",
    "    celdas = fila.find_all('td')\n",
    "    aux = aux + 1\n",
    "    if len(celdas) > 0:\n",
    "        if aux > 42 and aux < 48:\n",
    "            celda_nombres = celdas[0].get_text().replace(\"\\n\",\"\")\n",
    "            celda_cantidad = celdas[7].get_text().replace(\"\\n\",\"\")\n",
    "            print(f\"El planeta {celda_nombres}, tiene {celda_cantidad} satélites\")\n",
    "            "
   ]
  },
  {
   "cell_type": "code",
   "execution_count": null,
   "id": "0e0aadbf-ff9b-4e52-bfa5-1bc61da47330",
   "metadata": {},
   "outputs": [],
   "source": []
  }
 ],
 "metadata": {
  "kernelspec": {
   "display_name": "Python 3 (ipykernel)",
   "language": "python",
   "name": "python3"
  },
  "language_info": {
   "codemirror_mode": {
    "name": "ipython",
    "version": 3
   },
   "file_extension": ".py",
   "mimetype": "text/x-python",
   "name": "python",
   "nbconvert_exporter": "python",
   "pygments_lexer": "ipython3",
   "version": "3.12.5"
  }
 },
 "nbformat": 4,
 "nbformat_minor": 5
}
